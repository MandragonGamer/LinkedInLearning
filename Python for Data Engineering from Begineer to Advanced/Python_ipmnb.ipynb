{
  "nbformat": 4,
  "nbformat_minor": 0,
  "metadata": {
    "colab": {
      "provenance": []
    },
    "kernelspec": {
      "name": "python3",
      "display_name": "Python 3"
    },
    "language_info": {
      "name": "python"
    }
  },
  "cells": [
    {
      "cell_type": "code",
      "source": [
        "# Create new variable,  greeting\n",
        "greeting = \"Hello Data Engineering\"\n",
        "# Print the variable greeting\n",
        "print(greeting)"
      ],
      "metadata": {
        "colab": {
          "base_uri": "https://localhost:8080/"
        },
        "id": "tPMwRb8sAcNw",
        "outputId": "a07f27c2-0f25-4006-fbf8-ceaad419b649"
      },
      "execution_count": 3,
      "outputs": [
        {
          "output_type": "stream",
          "name": "stdout",
          "text": [
            "Hello Data Engineering\n"
          ]
        }
      ]
    },
    {
      "cell_type": "code",
      "source": [
        "# Create variables with different types:\n",
        "int_var = 7\n",
        "float_var = 3.14\n",
        "stg_var = \"Hello world!\"\n",
        "bol_var = True"
      ],
      "metadata": {
        "id": "XXHDywiJBdvH"
      },
      "execution_count": 4,
      "outputs": []
    },
    {
      "cell_type": "code",
      "source": [
        "# Print variabels\n",
        "print(int_var)\n",
        "print(float_var)\n",
        "print(stg_var)\n",
        "print(bol_var)"
      ],
      "metadata": {
        "colab": {
          "base_uri": "https://localhost:8080/"
        },
        "id": "gltpz_IIB7c-",
        "outputId": "82c4eade-6b99-452f-85ef-f51a43e3e0b0"
      },
      "execution_count": 6,
      "outputs": [
        {
          "output_type": "stream",
          "name": "stdout",
          "text": [
            "7\n",
            "3.14\n",
            "Hello world!\n",
            "True\n"
          ]
        }
      ]
    },
    {
      "cell_type": "code",
      "source": [],
      "metadata": {
        "id": "Mti3344sB-S_"
      },
      "execution_count": null,
      "outputs": []
    }
  ]
}